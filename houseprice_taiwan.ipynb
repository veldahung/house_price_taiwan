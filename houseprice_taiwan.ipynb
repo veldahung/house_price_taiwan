{
  "nbformat": 4,
  "nbformat_minor": 0,
  "metadata": {
    "colab": {
      "provenance": [],
      "include_colab_link": true
    },
    "kernelspec": {
      "name": "python3",
      "display_name": "Python 3"
    },
    "language_info": {
      "name": "python"
    }
  },
  "cells": [
    {
      "cell_type": "markdown",
      "metadata": {
        "id": "view-in-github",
        "colab_type": "text"
      },
      "source": [
        "<a href=\"https://colab.research.google.com/github/veldahung/house_price_taiwan/blob/main/houseprice_taiwan.ipynb\" target=\"_parent\"><img src=\"https://colab.research.google.com/assets/colab-badge.svg\" alt=\"Open In Colab\"/></a>"
      ]
    },
    {
      "cell_type": "code",
      "source": [
        "!pip install --upgrade category_encoders"
      ],
      "metadata": {
        "colab": {
          "base_uri": "https://localhost:8080/"
        },
        "id": "oyiwgEvv-PSq",
        "outputId": "672d5e79-89d2-435e-90c8-6798d706e1bf"
      },
      "execution_count": null,
      "outputs": [
        {
          "output_type": "stream",
          "name": "stdout",
          "text": [
            "Collecting category_encoders\n",
            "  Downloading category_encoders-2.6.3-py2.py3-none-any.whl (81 kB)\n",
            "\u001b[2K     \u001b[90m━━━━━━━━━━━━━━━━━━━━━━━━━━━━━━━━━━━━━━━━\u001b[0m \u001b[32m81.9/81.9 kB\u001b[0m \u001b[31m1.5 MB/s\u001b[0m eta \u001b[36m0:00:00\u001b[0m\n",
            "\u001b[?25hRequirement already satisfied: numpy>=1.14.0 in /usr/local/lib/python3.10/dist-packages (from category_encoders) (1.23.5)\n",
            "Requirement already satisfied: scikit-learn>=0.20.0 in /usr/local/lib/python3.10/dist-packages (from category_encoders) (1.2.2)\n",
            "Requirement already satisfied: scipy>=1.0.0 in /usr/local/lib/python3.10/dist-packages (from category_encoders) (1.11.3)\n",
            "Requirement already satisfied: statsmodels>=0.9.0 in /usr/local/lib/python3.10/dist-packages (from category_encoders) (0.14.0)\n",
            "Requirement already satisfied: pandas>=1.0.5 in /usr/local/lib/python3.10/dist-packages (from category_encoders) (1.5.3)\n",
            "Requirement already satisfied: patsy>=0.5.1 in /usr/local/lib/python3.10/dist-packages (from category_encoders) (0.5.3)\n",
            "Requirement already satisfied: python-dateutil>=2.8.1 in /usr/local/lib/python3.10/dist-packages (from pandas>=1.0.5->category_encoders) (2.8.2)\n",
            "Requirement already satisfied: pytz>=2020.1 in /usr/local/lib/python3.10/dist-packages (from pandas>=1.0.5->category_encoders) (2023.3.post1)\n",
            "Requirement already satisfied: six in /usr/local/lib/python3.10/dist-packages (from patsy>=0.5.1->category_encoders) (1.16.0)\n",
            "Requirement already satisfied: joblib>=1.1.1 in /usr/local/lib/python3.10/dist-packages (from scikit-learn>=0.20.0->category_encoders) (1.3.2)\n",
            "Requirement already satisfied: threadpoolctl>=2.0.0 in /usr/local/lib/python3.10/dist-packages (from scikit-learn>=0.20.0->category_encoders) (3.2.0)\n",
            "Requirement already satisfied: packaging>=21.3 in /usr/local/lib/python3.10/dist-packages (from statsmodels>=0.9.0->category_encoders) (23.2)\n",
            "Installing collected packages: category_encoders\n",
            "Successfully installed category_encoders-2.6.3\n"
          ]
        }
      ]
    },
    {
      "cell_type": "code",
      "source": [
        "import numpy as np\n",
        "import pandas as pd\n",
        "from category_encoders import TargetEncoder\n",
        "from sklearn.preprocessing import StandardScaler,MinMaxScaler, OneHotEncoder\n",
        "import matplotlib.pyplot as plt\n",
        "from sklearn.metrics import roc_auc_score\n",
        "import sklearn\n",
        "from sklearn.svm import SVR\n",
        "from sklearn.svm import SVC\n",
        "from sklearn.model_selection import train_test_split\n",
        "from sklearn.model_selection import GridSearchCV\n",
        "import math\n",
        "from xgboost import XGBRegressor\n",
        "import numpy as np # linear algebra\n",
        "import pandas as pd # data processing, CSV file I/O (e.g. pd.read_csv)\n",
        "import matplotlib.pyplot as plt\n",
        "import seaborn as sns\n",
        "from sklearn.metrics import mean_squared_error as mse\n",
        "from sklearn.model_selection import cross_val_score, GridSearchCV, KFold, RandomizedSearchCV, train_test_split\n",
        "import math\n",
        "import sklearn.model_selection as ms\n",
        "import sklearn.metrics as sklm\n",
        "import pandas as pd\n",
        "from sklearn.model_selection import KFold\n",
        "from sklearn import preprocessing\n",
        "np.random.seed(3)"
      ],
      "metadata": {
        "id": "qni9-lEli9xe"
      },
      "execution_count": null,
      "outputs": []
    },
    {
      "cell_type": "code",
      "source": [
        "url_train = 'https://raw.githubusercontent.com/veldahung/house_price/main/training_data.csv'\n",
        "train = pd.read_csv(url_train)\n",
        "print(train.head())\n",
        "print(train.shape)\n",
        "\n",
        "url_test = 'https://raw.githubusercontent.com/veldahung/house_price/main/public_dataset.csv'\n",
        "test= pd.read_csv(url_test)\n",
        "print(test.head())\n",
        "print(test.shape)\n",
        "\n",
        "url_test_private = 'https://raw.githubusercontent.com/veldahung/house_price/main/private_dataset.csv'\n",
        "test_new= pd.read_csv(url_test_private)\n",
        "print(test_new.head())\n",
        "print(test_new.shape)"
      ],
      "metadata": {
        "colab": {
          "base_uri": "https://localhost:8080/"
        },
        "id": "gPZCScz7VDgO",
        "outputId": "74f0b101-5908-4a52-b66f-17633657c2a2"
      },
      "execution_count": null,
      "outputs": [
        {
          "output_type": "stream",
          "name": "stdout",
          "text": [
            "     ID   縣市 鄉鎮市區      路名      土地面積  使用分區  移轉層次  總樓層數  主要用途    主要建材  ...  \\\n",
            "0  TR-1  台北市  大安區  敦化南路二段 -0.256716  None    11    11   住家用  鋼筋混凝土造  ...   \n",
            "1  TR-2  台北市  萬華區     水源路  0.100134  None     7    12   住家用  鋼筋混凝土造  ...   \n",
            "2  TR-3  高雄市  鳳山區     北忠街  0.181921  None    10    15  集合住宅      其他  ...   \n",
            "3  TR-4  新北市  新莊區     福前街  0.085594  None     9    14  集合住宅  鋼筋混凝土造  ...   \n",
            "4  TR-5  新北市  板橋區   文化路一段 -0.938116  None    41    43   住家用     鋼骨造  ...   \n",
            "\n",
            "       建物面積      車位面積  車位個數     橫坐標      縱坐標   備註     主建物面積      陽台面積  \\\n",
            "0 -0.174154 -0.819326   0.0  305266  2768378  NaN  0.393926  0.183700   \n",
            "1  0.314204 -0.819326   0.0  300677  2767990  NaN -0.316131  0.608577   \n",
            "2  0.423366  0.161624   1.0  184815  2504666  NaN -0.098871 -0.360620   \n",
            "3  0.164249  0.524653   1.0  296653  2772355  NaN -0.071147  0.315088   \n",
            "4  0.985839  0.532377   1.0  297377  2768472  NaN  0.791954  1.719400   \n",
            "\n",
            "     附屬建物面積        單價  \n",
            "0 -0.438452  4.627714  \n",
            "1 -0.438452  1.887258  \n",
            "2  1.525881  1.489072  \n",
            "3  0.231984  2.051217  \n",
            "4 -0.438452  3.269198  \n",
            "\n",
            "[5 rows x 22 columns]\n",
            "(11751, 22)\n",
            "     ID   縣市 鄉鎮市區      路名      土地面積  使用分區  移轉層次  總樓層數  主要用途    主要建材  ...  \\\n",
            "0  PU-1  新北市  樹林區     大有路  2.039378  None     3     7   住家用  鋼筋混凝土造  ...   \n",
            "1  PU-2  新北市  三重區   力行路一段 -0.077786  None     5     5   住家用  鋼筋混凝土造  ...   \n",
            "2  PU-3  新北市  板橋區   民生路三段 -0.555766  None     2    20  集合住宅  鋼筋混凝土造  ...   \n",
            "3  PU-4  新北市  泰山區   明志路二段 -0.744838  None     6    16   住家用  鋼筋混凝土造  ...   \n",
            "4  PU-5  台北市  信義區  忠孝東路五段 -0.610923  None     3     7   住家用  鋼筋混凝土造  ...   \n",
            "\n",
            "          屋齡      建物面積      車位面積  車位個數     橫坐標      縱坐標   備註     主建物面積  \\\n",
            "0  13.916667  0.472202  0.146176   1.0  288745  2760266  NaN  0.849664   \n",
            "1  40.833333 -0.546455 -0.819326   0.0  298751  2773492  NaN -0.004102   \n",
            "2   1.333333  0.124032 -0.167419   1.0  297000  2769106  NaN -0.285862   \n",
            "3  27.500000 -0.027072  0.115280   1.0  293076  2771160  NaN  0.027582   \n",
            "4  40.500000 -0.863600 -0.819326   0.0  308103  2770220  NaN -0.883328   \n",
            "\n",
            "       陽台面積    附屬建物面積  \n",
            "0  0.146161 -0.438452  \n",
            "1  0.064257 -0.438452  \n",
            "2 -0.775260  1.323042  \n",
            "3  0.316794 -0.139532  \n",
            "4 -0.560262 -0.075477  \n",
            "\n",
            "[5 rows x 21 columns]\n",
            "(5876, 21)\n",
            "     ID   縣市 鄉鎮市區   路名      土地面積  使用分區  移轉層次  總樓層數 主要用途    主要建材  ...  \\\n",
            "0  PR-1  高雄市  前鎮區  鎮海路 -0.541033  None    12    14  住家用  鋼筋混凝土造  ...   \n",
            "1  PR-2  台北市  北投區  大同街  0.753799  None     4     7   其他  鋼筋混凝土造  ...   \n",
            "2  PR-3  台北市  大同區  大龍街  0.482869     住     6     7  住家用  鋼筋混凝土造  ...   \n",
            "3  PR-4  新北市  蘆洲區  民族路  0.390940  None     4     4  住家用    加強磚造  ...   \n",
            "4  PR-5  新北市  新莊區  龍安路 -0.711599  None     3     8  住家用  鋼筋混凝土造  ...   \n",
            "\n",
            "          屋齡      建物面積      車位面積  車位個數     橫坐標      縱坐標   備註     主建物面積  \\\n",
            "0  27.916667  0.043596 -0.819326   0.0  179750  2499123  NaN  0.127159   \n",
            "1   0.750000 -0.200582  0.311470   1.0  300436  2781335  NaN -0.464083   \n",
            "2  43.916667  0.211936 -0.819326   0.0  302091  2773374  NaN  0.832407   \n",
            "3  45.416667 -0.685493 -0.819326   0.0  298394  2775413  NaN  0.052476   \n",
            "4  27.250000 -0.898072 -0.819326   0.0  292572  2767887  NaN -0.968196   \n",
            "\n",
            "       陽台面積    附屬建物面積  \n",
            "0  0.035249 -0.438452  \n",
            "1 -0.160979 -0.438452  \n",
            "2  2.461656 -0.438452  \n",
            "3 -1.642077 -0.438452  \n",
            "4 -0.333319 -0.022099  \n",
            "\n",
            "[5 rows x 21 columns]\n",
            "(5875, 21)\n"
          ]
        }
      ]
    },
    {
      "cell_type": "code",
      "source": [
        "puby=[]\n",
        "puby=test[\"ID\"]\n",
        "puby=puby.append(test_new[\"ID\"])"
      ],
      "metadata": {
        "id": "SR6ZFlRHKd2_",
        "colab": {
          "base_uri": "https://localhost:8080/"
        },
        "outputId": "67861782-6345-479b-abca-12b4a0c1b94a"
      },
      "execution_count": null,
      "outputs": [
        {
          "output_type": "stream",
          "name": "stderr",
          "text": [
            "<ipython-input-4-2619cc3cadc0>:3: FutureWarning: The series.append method is deprecated and will be removed from pandas in a future version. Use pandas.concat instead.\n",
            "  puby=puby.append(test_new[\"ID\"])\n"
          ]
        }
      ]
    },
    {
      "cell_type": "code",
      "source": [
        "data_all = pd.concat((train, test, test_new), sort=False).reset_index(drop=True)"
      ],
      "metadata": {
        "id": "rQChcqBajE-r"
      },
      "execution_count": null,
      "outputs": []
    },
    {
      "cell_type": "code",
      "source": [
        "# numeric feature describe\n",
        "num_data=data_all.select_dtypes(['int64','float64'])\n",
        "describe_num=data_all.describe().transpose()\n",
        "print (describe_num)\n",
        "print(num_data.columns)"
      ],
      "metadata": {
        "id": "wwY_ClVLjHXI",
        "colab": {
          "base_uri": "https://localhost:8080/"
        },
        "outputId": "aeed13a4-df20-48e6-90b5-370eaaae12ca"
      },
      "execution_count": null,
      "outputs": [
        {
          "output_type": "stream",
          "name": "stdout",
          "text": [
            "          count          mean           std           min           25%  \\\n",
            "土地面積    23502.0  8.102521e-17      1.000021 -1.699811e+00 -6.517617e-01   \n",
            "移轉層次    23502.0  7.352225e+00      4.994471  2.000000e+00  4.000000e+00   \n",
            "總樓層數    23502.0  1.248434e+01      6.673036  2.000000e+00  7.000000e+00   \n",
            "屋齡      23502.0  2.130552e+01     14.425636  0.000000e+00  8.083333e+00   \n",
            "建物面積    23502.0 -1.402825e-16      1.000021 -1.909259e+00 -6.176972e-01   \n",
            "車位面積    23502.0 -1.100492e-16      1.000021 -8.193257e-01 -8.193257e-01   \n",
            "車位個數    23502.0  6.285848e-01      0.668707  0.000000e+00  0.000000e+00   \n",
            "橫坐標     23502.0  2.683703e+05  49941.266876 -2.339100e+04  2.381920e+05   \n",
            "縱坐標     23502.0  2.719582e+06  92136.788959  2.493809e+06  2.729189e+06   \n",
            "主建物面積   23502.0 -3.640088e-16      1.000021 -2.098629e+00 -6.097724e-01   \n",
            "陽台面積    23502.0  2.418663e-17      1.000021 -1.642077e+00 -6.285149e-01   \n",
            "附屬建物面積  23502.0 -7.497855e-17      1.000021 -4.384519e-01 -4.384519e-01   \n",
            "單價      11751.0  1.993343e+00      1.002079  1.774148e-01  1.301691e+00   \n",
            "\n",
            "                 50%           75%           max  \n",
            "土地面積   -1.577458e-01  4.078240e-01  1.947517e+01  \n",
            "移轉層次    6.000000e+00  1.000000e+01  4.600000e+01  \n",
            "總樓層數    1.200000e+01  1.500000e+01  6.800000e+01  \n",
            "屋齡      2.166667e+01  3.125000e+01  6.250000e+01  \n",
            "建物面積   -1.959862e-01  3.262691e-01  1.302644e+01  \n",
            "車位面積   -3.605191e-01  6.636854e-01  1.400770e+01  \n",
            "車位個數    1.000000e+00  1.000000e+00  3.000000e+00  \n",
            "橫坐標     2.947545e+05  3.021958e+05  3.341280e+05  \n",
            "縱坐標     2.766316e+06  2.772017e+06  2.794446e+06  \n",
            "主建物面積  -1.444162e-01  3.797107e-01  1.209940e+01  \n",
            "陽台面積   -8.760705e-02  4.464754e-01  1.384290e+01  \n",
            "附屬建物面積 -4.384519e-01  1.423075e-01  3.371319e+01  \n",
            "單價      1.770145e+00  2.402558e+00  1.362203e+01  \n",
            "Index(['土地面積', '移轉層次', '總樓層數', '屋齡', '建物面積', '車位面積', '車位個數', '橫坐標', '縱坐標',\n",
            "       '主建物面積', '陽台面積', '附屬建物面積', '單價'],\n",
            "      dtype='object')\n"
          ]
        }
      ]
    },
    {
      "cell_type": "code",
      "source": [
        "# KDE-all\n",
        "\n",
        "'''\n",
        "for i in list(num_data.columns):\n",
        "    sns.distplot(num_data[i].dropna()).set_title(i)\n",
        "    plt.show()\n",
        "'''\n"
      ],
      "metadata": {
        "colab": {
          "base_uri": "https://localhost:8080/",
          "height": 35
        },
        "id": "bMhK8XZLQEAj",
        "outputId": "59cf7310-6b24-4db7-b2b2-bb798aa9dd13"
      },
      "execution_count": null,
      "outputs": [
        {
          "output_type": "execute_result",
          "data": {
            "text/plain": [
              "'\\nfor i in list(num_data.columns):\\n    sns.distplot(num_data[i].dropna()).set_title(i)\\n    plt.show()\\n'"
            ],
            "application/vnd.google.colaboratory.intrinsic+json": {
              "type": "string"
            }
          },
          "metadata": {},
          "execution_count": 7
        }
      ]
    },
    {
      "cell_type": "code",
      "source": [
        "# correlation heatmap\n",
        "num_train=train.select_dtypes(['int64','float64'])\n",
        "num_corr=num_train.corr()\n",
        "#print(num_corr)\n",
        "print(num_corr.sort_values(by=['單價'], ascending=False).head(1))\n",
        "'''\n",
        "fig,ax=plt.subplots(figsize=(15,1))\n",
        "sns.heatmap(num_corr.sort_values(by=['單價'], ascending=False).head(1), cmap='Reds')\n",
        "plt.title(\"Correlation Matrix\", weight='bold', fontsize=18)\n",
        "plt.xticks(weight='bold')\n",
        "plt.yticks(weight='bold', color='dodgerblue', rotation=0)\n",
        "'''\n"
      ],
      "metadata": {
        "colab": {
          "base_uri": "https://localhost:8080/",
          "height": 137
        },
        "id": "9oje87FWQFIp",
        "outputId": "9eafeb0d-8a9e-491c-9696-fac943898e8f"
      },
      "execution_count": null,
      "outputs": [
        {
          "output_type": "stream",
          "name": "stdout",
          "text": [
            "        土地面積      移轉層次      總樓層數        屋齡      建物面積      車位面積      車位個數  \\\n",
            "單價  0.067088  0.054038  0.037874  0.049196  0.061327  0.099986  0.013064   \n",
            "\n",
            "         橫坐標       縱坐標    主建物面積      陽台面積    附屬建物面積   單價  \n",
            "單價  0.455633  0.394402  0.05615  0.009866  0.064905  1.0  \n"
          ]
        },
        {
          "output_type": "execute_result",
          "data": {
            "text/plain": [
              "'\\nfig,ax=plt.subplots(figsize=(15,1))\\nsns.heatmap(num_corr.sort_values(by=[\\'單價\\'], ascending=False).head(1), cmap=\\'Reds\\')\\nplt.title(\"Correlation Matrix\", weight=\\'bold\\', fontsize=18)\\nplt.xticks(weight=\\'bold\\')\\nplt.yticks(weight=\\'bold\\', color=\\'dodgerblue\\', rotation=0)\\n'"
            ],
            "application/vnd.google.colaboratory.intrinsic+json": {
              "type": "string"
            }
          },
          "metadata": {},
          "execution_count": 8
        }
      ]
    },
    {
      "cell_type": "code",
      "source": [
        "# 特徵描述-類別\n",
        "cat_data=data_all.select_dtypes(['object'])\n",
        "print(cat_data)\n",
        "'''\n",
        "for i in list(cat_data.columns):\n",
        "    fig,ax=plt.subplots(1,1)\n",
        "    ax.hist(cat_data[i].dropna())\n",
        "    ax.set_title(i,fontsize=12,color='Black')\n",
        "    plt.show()\n",
        "'''"
      ],
      "metadata": {
        "colab": {
          "base_uri": "https://localhost:8080/",
          "height": 290
        },
        "id": "-uWldyUjRVUP",
        "outputId": "ede2b1a2-5012-45d0-caf5-6a2dfa28ad15"
      },
      "execution_count": null,
      "outputs": [
        {
          "output_type": "stream",
          "name": "stdout",
          "text": [
            "            ID   縣市 鄉鎮市區      路名  使用分區   主要用途    主要建材             建物型態   備註\n",
            "0         TR-1  台北市  大安區  敦化南路二段  None    住家用  鋼筋混凝土造  住宅大樓(11層含以上有電梯)  NaN\n",
            "1         TR-2  台北市  萬華區     水源路  None    住家用  鋼筋混凝土造  住宅大樓(11層含以上有電梯)  NaN\n",
            "2         TR-3  高雄市  鳳山區     北忠街  None   集合住宅      其他  住宅大樓(11層含以上有電梯)  NaN\n",
            "3         TR-4  新北市  新莊區     福前街  None   集合住宅  鋼筋混凝土造  住宅大樓(11層含以上有電梯)  NaN\n",
            "4         TR-5  新北市  板橋區   文化路一段  None    住家用     鋼骨造  住宅大樓(11層含以上有電梯)  NaN\n",
            "...        ...  ...  ...     ...   ...    ...     ...              ...  ...\n",
            "23497  PR-5871  高雄市  鳳山區     和德街  None   集合住宅  鋼筋混凝土造  住宅大樓(11層含以上有電梯)  NaN\n",
            "23498  PR-5872  台北市  南港區     玉成街  None  一般事務所      其他  住宅大樓(11層含以上有電梯)  NaN\n",
            "23499  PR-5873  新北市  林口區  文化二路一段  None    住家用  鋼筋混凝土造  住宅大樓(11層含以上有電梯)  NaN\n",
            "23500  PR-5874  高雄市  鳳山區    文龍東路  None   集合住宅  鋼筋混凝土造  住宅大樓(11層含以上有電梯)  NaN\n",
            "23501  PR-5875  新竹縣  竹北市   十興路一段  None    住家用  鋼筋混凝土造  住宅大樓(11層含以上有電梯)  NaN\n",
            "\n",
            "[23502 rows x 9 columns]\n"
          ]
        },
        {
          "output_type": "execute_result",
          "data": {
            "text/plain": [
              "\"\\nfor i in list(cat_data.columns):\\n    fig,ax=plt.subplots(1,1)\\n    ax.hist(cat_data[i].dropna())\\n    ax.set_title(i,fontsize=12,color='Black')\\n    plt.show()\\n\""
            ],
            "application/vnd.google.colaboratory.intrinsic+json": {
              "type": "string"
            }
          },
          "metadata": {},
          "execution_count": 9
        }
      ]
    },
    {
      "cell_type": "code",
      "source": [
        "missing_columns=data_all.isnull().mean().sort_values(ascending=False)\n",
        "missing_columns=missing_columns[missing_columns!=0].to_frame().reset_index()\n",
        "print(missing_columns)"
      ],
      "metadata": {
        "colab": {
          "base_uri": "https://localhost:8080/"
        },
        "id": "QewGGGbl_awk",
        "outputId": "80943a68-1623-4b4e-ef2e-9401008b8876"
      },
      "execution_count": null,
      "outputs": [
        {
          "output_type": "stream",
          "name": "stdout",
          "text": [
            "  index         0\n",
            "0    備註  0.992256\n",
            "1    單價  0.500000\n"
          ]
        }
      ]
    },
    {
      "cell_type": "code",
      "source": [
        "\n",
        "# 檢查連續變項跟依變數的分布情形\n",
        "data_remove_outlier=data_all[:11751]\n",
        "'''\n",
        "print(num_train)\n",
        "for c in num_train:\n",
        "    sns.scatterplot(x=c, y=\"單價\", data=data_remove_outlier).set_title(c,fontsize=12,color='Black')\n",
        "    plt.show()\n",
        "'''\n"
      ],
      "metadata": {
        "colab": {
          "base_uri": "https://localhost:8080/",
          "height": 52
        },
        "id": "lz2ZbRqMbXST",
        "outputId": "a1d61085-e5ba-40b7-8298-d38bd7b1e396"
      },
      "execution_count": null,
      "outputs": [
        {
          "output_type": "execute_result",
          "data": {
            "text/plain": [
              "'\\nprint(num_train)\\nfor c in num_train:\\n    sns.scatterplot(x=c, y=\"單價\", data=data_remove_outlier).set_title(c,fontsize=12,color=\\'Black\\')\\n    plt.show()\\n'"
            ],
            "application/vnd.google.colaboratory.intrinsic+json": {
              "type": "string"
            }
          },
          "metadata": {},
          "execution_count": 11
        }
      ]
    },
    {
      "cell_type": "code",
      "source": [
        "\n",
        "outlier_columns=['土地面積','移轉層次','總樓層數','建物面積','車位面積', '主建物面積','陽台面積','附屬建物面積']\n",
        "outlier_threshold=[15,40,60,10,8,12,12,30]\n",
        "for c,n in zip(outlier_columns,outlier_threshold):\n",
        "    data_remove_outlier=data_remove_outlier[data_remove_outlier[c]<n]\n",
        "print(data_remove_outlier.shape)\n",
        "data_all = pd.concat((data_remove_outlier, data_all[11751:]), sort=False).reset_index(drop=True)\n",
        "print(data_all.shape)\n"
      ],
      "metadata": {
        "id": "gApqJ4zJdKKs",
        "colab": {
          "base_uri": "https://localhost:8080/"
        },
        "outputId": "03653314-3f9a-4756-b07a-bb357c56ddea"
      },
      "execution_count": null,
      "outputs": [
        {
          "output_type": "stream",
          "name": "stdout",
          "text": [
            "(11738, 22)\n",
            "(23489, 22)\n"
          ]
        }
      ]
    },
    {
      "cell_type": "code",
      "source": [
        "# 遺漏值檢查\n",
        "missing_columns=data_all.isnull().mean().sort_values(ascending=False)\n",
        "missing_columns=missing_columns[missing_columns!=0].to_frame().reset_index()\n",
        "print(missing_columns)\n",
        "\n",
        "'''\n",
        "# 遺漏率繪圖\n",
        "fig,ax=plt.subplots(figsize=(7,7))\n",
        "sns.barplot(x=0,y='index',data=missing_columns)\n",
        "'''"
      ],
      "metadata": {
        "colab": {
          "base_uri": "https://localhost:8080/",
          "height": 86
        },
        "id": "d04zamUpaQbM",
        "outputId": "c6db90d1-a2f7-422b-90c5-cf06487f49bd"
      },
      "execution_count": null,
      "outputs": [
        {
          "output_type": "stream",
          "name": "stdout",
          "text": [
            "  index         0\n",
            "0    備註  0.992252\n",
            "1    單價  0.500277\n"
          ]
        },
        {
          "output_type": "execute_result",
          "data": {
            "text/plain": [
              "\"\\n# 遺漏率繪圖\\nfig,ax=plt.subplots(figsize=(7,7))\\nsns.barplot(x=0,y='index',data=missing_columns)\\n\""
            ],
            "application/vnd.google.colaboratory.intrinsic+json": {
              "type": "string"
            }
          },
          "metadata": {},
          "execution_count": 13
        }
      ]
    },
    {
      "cell_type": "code",
      "source": [
        "# 移除遺漏值太多或分布太奇怪的欄位\n",
        "data_all=data_all.drop(columns=['ID'],axis=1)\n",
        "data_all=data_all.drop(columns=['備註'],axis=1)\n",
        "missing_num=['單價']\n",
        "#missing_num=['單價','陽台面積','主建物面積','土地面積','建物面積']\n",
        "# 數值補0\n",
        "for i in missing_num:\n",
        "    data_all[i]=data_all[i].fillna(0)"
      ],
      "metadata": {
        "id": "9DWnUyAyaRrF"
      },
      "execution_count": null,
      "outputs": []
    },
    {
      "cell_type": "code",
      "source": [
        "# 遺漏值檢查\n",
        "missing_columns=data_all.isnull().mean().sort_values(ascending=False)\n",
        "missing_columns=missing_columns[missing_columns!=0].to_frame().reset_index()\n",
        "print(missing_columns)"
      ],
      "metadata": {
        "colab": {
          "base_uri": "https://localhost:8080/"
        },
        "id": "2NL6gxAh5DDX",
        "outputId": "731cd60d-4140-498f-a727-bedabf65f10b"
      },
      "execution_count": null,
      "outputs": [
        {
          "output_type": "stream",
          "name": "stdout",
          "text": [
            "Empty DataFrame\n",
            "Columns: [index, 0]\n",
            "Index: []\n"
          ]
        }
      ]
    },
    {
      "cell_type": "code",
      "source": [
        "'''\n",
        "#面積相關欄位_對數轉換\n",
        "for i in list(['土地面積','移轉層次','總樓層數','建物面積','車位面積','主建物面積','陽台面積','附屬建物面積']):\n",
        "    data_all[i]=(np.log1p(data_all[i].dropna()))\n",
        "'''"
      ],
      "metadata": {
        "colab": {
          "base_uri": "https://localhost:8080/",
          "height": 52
        },
        "id": "5wyYglq4_YWN",
        "outputId": "57d86b72-d2cc-433f-e1e0-2613ce1b40a9"
      },
      "execution_count": null,
      "outputs": [
        {
          "output_type": "execute_result",
          "data": {
            "text/plain": [
              "\"\\n#面積相關欄位_對數轉換\\nfor i in list(['土地面積','移轉層次','總樓層數','建物面積','車位面積','主建物面積','陽台面積','附屬建物面積']):\\n    data_all[i]=(np.log1p(data_all[i].dropna()))\\n\""
            ],
            "application/vnd.google.colaboratory.intrinsic+json": {
              "type": "string"
            }
          },
          "metadata": {},
          "execution_count": 16
        }
      ]
    },
    {
      "cell_type": "code",
      "source": [
        "'''\n",
        "# 遺漏值檢查\n",
        "missing_columns=data_all.isnull().mean().sort_values(ascending=False)\n",
        "missing_columns=missing_columns[missing_columns!=0].to_frame().reset_index()\n",
        "print(missing_columns)\n",
        "'''"
      ],
      "metadata": {
        "colab": {
          "base_uri": "https://localhost:8080/",
          "height": 52
        },
        "id": "BGN9hsRp5A11",
        "outputId": "829341ae-a7d4-4376-dc75-f7c98e609b8b"
      },
      "execution_count": null,
      "outputs": [
        {
          "output_type": "execute_result",
          "data": {
            "text/plain": [
              "'\\n# 遺漏值檢查\\nmissing_columns=data_all.isnull().mean().sort_values(ascending=False)\\nmissing_columns=missing_columns[missing_columns!=0].to_frame().reset_index()\\nprint(missing_columns)\\n'"
            ],
            "application/vnd.google.colaboratory.intrinsic+json": {
              "type": "string"
            }
          },
          "metadata": {},
          "execution_count": 17
        }
      ]
    },
    {
      "cell_type": "code",
      "source": [
        "'''\n",
        "missing_num=['陽台面積','主建物面積','土地面積','建物面積']\n",
        "# 數值補0\n",
        "for i in missing_num:\n",
        "    data_all[i]=data_all[i].fillna(0)\n",
        "'''"
      ],
      "metadata": {
        "id": "To-TwgMPBSWC",
        "colab": {
          "base_uri": "https://localhost:8080/",
          "height": 35
        },
        "outputId": "6983cc9d-3dac-4ce2-b0a8-2493f7b699c1"
      },
      "execution_count": null,
      "outputs": [
        {
          "output_type": "execute_result",
          "data": {
            "text/plain": [
              "\"\\nmissing_num=['陽台面積','主建物面積','土地面積','建物面積']\\n# 數值補0\\nfor i in missing_num:\\n    data_all[i]=data_all[i].fillna(0)\\n\""
            ],
            "application/vnd.google.colaboratory.intrinsic+json": {
              "type": "string"
            }
          },
          "metadata": {},
          "execution_count": 18
        }
      ]
    },
    {
      "cell_type": "code",
      "source": [
        "\n",
        "# 遺漏值檢查\n",
        "missing_columns=data_all.isnull().mean().sort_values(ascending=False)\n",
        "missing_columns=missing_columns[missing_columns!=0].to_frame().reset_index()\n",
        "print(missing_columns)\n"
      ],
      "metadata": {
        "colab": {
          "base_uri": "https://localhost:8080/"
        },
        "id": "FNUsrm2iBWLw",
        "outputId": "15039ded-a6fb-42e0-e6de-9ab8a86f5f5d"
      },
      "execution_count": null,
      "outputs": [
        {
          "output_type": "stream",
          "name": "stdout",
          "text": [
            "Empty DataFrame\n",
            "Columns: [index, 0]\n",
            "Index: []\n"
          ]
        }
      ]
    },
    {
      "cell_type": "code",
      "source": [
        "#data_all['地址']=data_all['縣市']+data_all['鄉鎮市區']+data_all['路名']"
      ],
      "metadata": {
        "id": "Hf_Y0BaRbXDs"
      },
      "execution_count": null,
      "outputs": []
    },
    {
      "cell_type": "code",
      "source": [
        "'''\n",
        "data=data_all[:11738]\n",
        "# Define categorical features to encode\n",
        "categorical_cols = ['縣市', '鄉鎮市區','路名','使用分區','主要用途','主要建材','建物型態' ]\n",
        "#categorical_cols = ['地址','使用分區','主要用途','主要建材','建物型態' ]\n",
        "#categorical_cols = ['使用分區','主要用途','主要建材','建物型態' ]\n",
        "\n",
        "#categorical_cols = ['路名' ]\n",
        "\n",
        "# Create K-fold cross-validation\n",
        "kf = KFold(n_splits=27, shuffle=True, random_state=42)\n",
        "\n",
        "# Initialize the TargetEncoder with smoothing (regularization)\n",
        "encoder = TargetEncoder(cols=categorical_cols, smoothing=0.4)\n",
        "\n",
        "\n",
        "\n",
        "# Perform target encoding within each fold\n",
        "for train_index, val_index in kf.split(data):\n",
        "    X_train, X_val = data.iloc[train_index].drop(columns=['單價'],axis=1), data.iloc[val_index].drop(columns=['單價'],axis=1)\n",
        "    y_train, y_val = data.iloc[train_index][['單價']], data.iloc[val_index][['單價']]\n",
        "\n",
        "    encoder.fit(X_train, y_train)\n",
        "    X_train_encoded = encoder.transform(X_train)\n",
        "    X_val_encoded = encoder.transform(X_val)\n",
        "\n",
        "    # Use X_train_encoded and X_val_encoded in your modeling pipeline\n",
        "\n",
        "\n",
        "'''\n",
        "'''\n",
        "# Initialize the TargetEncoder with smoothing (regularization)\n",
        "encoder = TargetEncoder(cols=categorical_cols, smoothing=0.37)\n",
        "\n",
        "\n",
        "X=data.drop(columns=['單價'],axis=1)\n",
        "y=data[['單價']]\n",
        "encoder.fit(X, y)\n",
        "X_encoded=encoder.transform(X)\n",
        "\n",
        "for train_index, val_index in kf.split(data):\n",
        "    X_train_encoded, X_val_encoded = X_encoded.iloc[train_index], X_encoded.iloc[val_index]\n",
        "    y_train, y_val = y.iloc[train_index], y.iloc[val_index]\n",
        "'''\n",
        "\n",
        "#X_train_encoded=X_train_encoded.drop(\"陽台面積\",axis = 1)\n",
        "#X_val_encoded=X_val_encoded.drop(\"陽台面積\",axis = 1)\n",
        "\n",
        "#X_train_encoded=X_train_encoded.drop(\"主建物面積\",axis = 1)\n",
        "#X_train_encoded=X_train_encoded.drop(\"主要建材\",axis = 1)\n",
        "#X_train_encoded=X_train_encoded.drop(\"路名\",axis = 1)\n",
        "#X_train_encoded=X_train_encoded.drop(\"鄉鎮市區\",axis = 1)\n",
        "#X_train_encoded=X_train_encoded.drop(\"縣市\",axis = 1)\n",
        "#X_val_encoded=X_val_encoded.drop(\"主建物面積\",axis = 1)\n",
        "#X_val_encoded=X_val_encoded.drop(\"主要建材\",axis = 1)\n",
        "#X_val_encoded=X_val_encoded.drop(\"路名\",axis = 1)\n",
        "#X_val_encoded=X_val_encoded.drop(\"鄉鎮市區\",axis= 1)\n",
        "#X_val_encoded=X_val_encoded.drop(\"縣市\",axis= 1)\n",
        "'''\n",
        "print(X_train_encoded.shape)\n",
        "print(X_val_encoded.shape)\n",
        "'''"
      ],
      "metadata": {
        "id": "W7VyRJ12fwrK",
        "colab": {
          "base_uri": "https://localhost:8080/",
          "height": 35
        },
        "outputId": "93482613-c219-4f16-c907-93c47aa7035c"
      },
      "execution_count": null,
      "outputs": [
        {
          "output_type": "execute_result",
          "data": {
            "text/plain": [
              "'\\nprint(X_train_encoded.shape)\\nprint(X_val_encoded.shape)\\n'"
            ],
            "application/vnd.google.colaboratory.intrinsic+json": {
              "type": "string"
            }
          },
          "metadata": {},
          "execution_count": 21
        }
      ]
    },
    {
      "cell_type": "code",
      "source": [
        "\n",
        "data=data_all[:11738]\n",
        "X=data.drop(columns=['單價'],axis=1)\n",
        "y=data[['單價']]\n",
        "# Define categorical features to encode\n",
        "categorical_cols = ['縣市', '鄉鎮市區','路名','使用分區','主要用途','主要建材','建物型態' ]\n",
        "\n",
        "encoder = TargetEncoder(cols=categorical_cols, smoothing=0.37)\n",
        "\n",
        "\n",
        "encoder.fit(X, y)\n",
        "X_encoded=encoder.transform(X)\n",
        "\n",
        "\n",
        "#X_train_encoded, X_val_encoded, y_train, y_val = train_test_split(X_encoded, y, test_size=0.2,random_state=30)\n",
        "\n",
        "missing_columns=X_encoded.isnull().mean().sort_values(ascending=False)\n",
        "missing_columns=missing_columns[missing_columns!=0].to_frame().reset_index()\n",
        "print(missing_columns)\n"
      ],
      "metadata": {
        "colab": {
          "base_uri": "https://localhost:8080/"
        },
        "id": "PbBo9qX62OCY",
        "outputId": "0677f47e-a924-4c51-a49d-548b3cdb65b4"
      },
      "execution_count": null,
      "outputs": [
        {
          "output_type": "stream",
          "name": "stdout",
          "text": [
            "Empty DataFrame\n",
            "Columns: [index, 0]\n",
            "Index: []\n"
          ]
        }
      ]
    },
    {
      "cell_type": "code",
      "source": [
        "#X_train_encoded.head()"
      ],
      "metadata": {
        "id": "4apvuBFSac3j"
      },
      "execution_count": null,
      "outputs": []
    },
    {
      "cell_type": "code",
      "source": [
        "data_test=data_all[11738:]\n",
        "print(data_test.shape)\n",
        "X_test=data_test.drop(columns=['單價'],axis=1)\n",
        "y_predict=data_test[['單價']]\n",
        "# Assuming you already have the encoder object from the training step\n",
        "X_test_encoded = encoder.transform(X_test)\n",
        "\n",
        "#X_test_encoded=X_test_encoded.drop(\"陽台面積\",axis = 1)\n",
        "#X_test_encoded=X_test_encoded.drop(\"主建物面積\",axis = 1)\n",
        "#X_test_encoded=X_test_encoded.drop(\"主要建材\",axis = 1)\n",
        "#X_test_encoded=X_test_encoded.drop(\"路名\",axis = 1)\n",
        "#X_test_encoded=X_test_encoded.drop(\"鄉鎮市區\",axis = 1)\n",
        "#X_test_encoded=X_test_encoded.drop(\"縣市\",axis = 1)\n",
        "\n",
        "X_test_encoded.head()\n",
        "print(X_test_encoded.shape)"
      ],
      "metadata": {
        "colab": {
          "base_uri": "https://localhost:8080/"
        },
        "id": "e9sbjMQ3Ce4_",
        "outputId": "a9be7c43-7bd8-4841-ae8d-51a222521bd4"
      },
      "execution_count": null,
      "outputs": [
        {
          "output_type": "stream",
          "name": "stdout",
          "text": [
            "(11751, 20)\n",
            "(11751, 19)\n"
          ]
        }
      ]
    },
    {
      "cell_type": "code",
      "source": [
        "'''\n",
        "print(X_train_encoded.shape)\n",
        "print(X_val_encoded.shape)\n",
        "'''\n",
        "#X= pd.concat((X_train_encoded, X_val_encoded,X_test_encoded), sort=False).reset_index(drop=True)\n",
        "X= pd.concat((X_encoded,X_test_encoded), sort=False).reset_index(drop=True)\n",
        "'''\n",
        "Y=pd.concat((y_train, y_val), sort=False).reset_index(drop=True)\n",
        "print(Y)\n",
        "missing_columns=X.isnull().mean().sort_values(ascending=False)\n",
        "missing_columns=missing_columns[missing_columns!=0].to_frame().reset_index()\n",
        "print(missing_columns)\n",
        "'''"
      ],
      "metadata": {
        "colab": {
          "base_uri": "https://localhost:8080/",
          "height": 52
        },
        "id": "mBsBNEgpybZb",
        "outputId": "55541696-a9d7-4bd9-e150-b86f2b797406"
      },
      "execution_count": null,
      "outputs": [
        {
          "output_type": "execute_result",
          "data": {
            "text/plain": [
              "'\\nY=pd.concat((y_train, y_val), sort=False).reset_index(drop=True)\\nprint(Y)\\nmissing_columns=X.isnull().mean().sort_values(ascending=False)\\nmissing_columns=missing_columns[missing_columns!=0].to_frame().reset_index()\\nprint(missing_columns)\\n'"
            ],
            "application/vnd.google.colaboratory.intrinsic+json": {
              "type": "string"
            }
          },
          "metadata": {},
          "execution_count": 25
        }
      ]
    },
    {
      "cell_type": "code",
      "source": [
        "'''\n",
        "missing_num=['陽台面積','主建物面積','土地面積','建物面積']\n",
        "# 數值補0\n",
        "for i in missing_num:\n",
        "    X[i]=X[i].fillna(0)\n",
        "'''"
      ],
      "metadata": {
        "colab": {
          "base_uri": "https://localhost:8080/",
          "height": 35
        },
        "id": "dvwaldPE4Amy",
        "outputId": "c2820268-1fae-485f-dc83-03df6bed0f15"
      },
      "execution_count": null,
      "outputs": [
        {
          "output_type": "execute_result",
          "data": {
            "text/plain": [
              "\"\\nmissing_num=['陽台面積','主建物面積','土地面積','建物面積']\\n# 數值補0\\nfor i in missing_num:\\n    X[i]=X[i].fillna(0)\\n\""
            ],
            "application/vnd.google.colaboratory.intrinsic+json": {
              "type": "string"
            }
          },
          "metadata": {},
          "execution_count": 26
        }
      ]
    },
    {
      "cell_type": "code",
      "source": [
        "\n",
        "X=preprocessing.normalize(X,axis=0)\n",
        "#Y=preprocessing.normalize(Y)\n",
        "Columns=['縣市', '鄉鎮市區', '路名', '土地面積', '使用分區', '移轉層次', '總樓層數', '主要用途', '主要建材', '建物型態', '屋齡', '建物面積', '車位面積', '車位個數', '橫坐標', '縱坐標', '主建物面積', '陽台面積', '附屬建物面積']\n",
        "X = pd.DataFrame(X,columns=Columns)\n",
        "print(X)\n"
      ],
      "metadata": {
        "colab": {
          "base_uri": "https://localhost:8080/"
        },
        "id": "JHx3q7uqyuz1",
        "outputId": "afb6073f-895e-4e25-ef3c-c81d5ca6deb4"
      },
      "execution_count": null,
      "outputs": [
        {
          "output_type": "stream",
          "name": "stdout",
          "text": [
            "             縣市      鄉鎮市區        路名      土地面積      使用分區      移轉層次      總樓層數  \\\n",
            "0      0.010325  0.013581  0.006383 -0.001698  0.006482  0.008090  0.005078   \n",
            "1      0.010325  0.007569  0.006383  0.000662  0.006482  0.005148  0.005539   \n",
            "2      0.003805  0.003268  0.006383  0.001204  0.006482  0.007355  0.006924   \n",
            "3      0.006010  0.005982  0.006383  0.000566  0.006482  0.006619  0.006462   \n",
            "4      0.010325  0.007569  0.006383  0.001723  0.006482  0.001471  0.005539   \n",
            "...         ...       ...       ...       ...       ...       ...       ...   \n",
            "23484  0.003805  0.003268  0.006383 -0.001080  0.006482  0.018387  0.011540   \n",
            "23485  0.010325  0.009973  0.006383  0.007401  0.006482  0.004413  0.007847   \n",
            "23486  0.006010  0.005428  0.005392 -0.000352  0.006482  0.010296  0.006462   \n",
            "23487  0.003805  0.003268  0.006383 -0.000594  0.006482  0.001471  0.006924   \n",
            "23488  0.005593  0.006079  0.006383  0.009761  0.006482  0.007355  0.006462   \n",
            "\n",
            "           主要用途      主要建材      建物型態        屋齡      建物面積      車位面積      車位個數  \\\n",
            "0      0.006512  0.006327  0.006527  0.008262 -0.001149 -0.005381  0.000000   \n",
            "1      0.006512  0.006327  0.006527  0.006128  0.002072 -0.005381  0.000000   \n",
            "2      0.006091  0.007773  0.006527  0.001564  0.002792  0.001062  0.007116   \n",
            "3      0.006091  0.006327  0.006527  0.002240  0.001083  0.003446  0.007116   \n",
            "4      0.006512  0.006327  0.006527  0.009973 -0.002714 -0.005381  0.000000   \n",
            "...         ...       ...       ...       ...       ...       ...       ...   \n",
            "23484  0.006091  0.006327  0.006527  0.000380  0.001125  0.010914  0.014231   \n",
            "23485  0.010729  0.007773  0.006527  0.004458  0.016419  0.031826  0.021347   \n",
            "23486  0.006512  0.006327  0.006527  0.006867 -0.001096 -0.005381  0.000000   \n",
            "23487  0.006091  0.006327  0.006527  0.001057  0.002993 -0.005381  0.000000   \n",
            "23488  0.006512  0.006327  0.006527  0.002007  0.010428  0.011482  0.014231   \n",
            "\n",
            "            橫坐標       縱坐標     主建物面積      陽台面積    附屬建物面積  \n",
            "0      0.007296  0.006638  0.002592  0.001215 -0.002932  \n",
            "1      0.007187  0.006637 -0.002080  0.004027 -0.002932  \n",
            "2      0.004417  0.006006 -0.000651 -0.002386  0.010204  \n",
            "3      0.007090  0.006648 -0.000468  0.002085  0.001551  \n",
            "4      0.007203  0.006638 -0.002443 -0.004091 -0.002932  \n",
            "...         ...       ...       ...       ...       ...  \n",
            "23484  0.004404  0.005999 -0.003264  0.006262  0.005820  \n",
            "23485  0.007378  0.006645  0.017879  0.007312 -0.000876  \n",
            "23486  0.006862  0.006650  0.001594 -0.000557 -0.002932  \n",
            "23487  0.004435  0.006006 -0.001691  0.016287 -0.002932  \n",
            "23488  0.006049  0.006586  0.009870  0.001272  0.003350  \n",
            "\n",
            "[23489 rows x 19 columns]\n"
          ]
        }
      ]
    },
    {
      "cell_type": "code",
      "source": [
        "\n",
        "# 遺漏值檢查\n",
        "missing_columns=X.isnull().mean().sort_values(ascending=False)\n",
        "missing_columns=missing_columns[missing_columns!=0].to_frame().reset_index()\n",
        "print(missing_columns)\n"
      ],
      "metadata": {
        "colab": {
          "base_uri": "https://localhost:8080/"
        },
        "id": "RAk9UVT8GHSB",
        "outputId": "fb68b7fa-38c9-4ae7-eb23-73519b44ded7"
      },
      "execution_count": null,
      "outputs": [
        {
          "output_type": "stream",
          "name": "stdout",
          "text": [
            "Empty DataFrame\n",
            "Columns: [index, 0]\n",
            "Index: []\n"
          ]
        }
      ]
    },
    {
      "cell_type": "code",
      "source": [
        "'''\n",
        "y_predict_test=xgbc.predict(X_test_encoded)\n",
        "print(y_predict_test[:10])\n",
        "'''"
      ],
      "metadata": {
        "colab": {
          "base_uri": "https://localhost:8080/",
          "height": 35
        },
        "id": "YohfIzy7IGZg",
        "outputId": "3364e845-42f7-4fb4-d465-020f3e3d6269"
      },
      "execution_count": null,
      "outputs": [
        {
          "output_type": "execute_result",
          "data": {
            "text/plain": [
              "'\\ny_predict_test=xgbc.predict(X_test_encoded)\\nprint(y_predict_test[:10])\\n'"
            ],
            "application/vnd.google.colaboratory.intrinsic+json": {
              "type": "string"
            }
          },
          "metadata": {},
          "execution_count": 29
        }
      ]
    },
    {
      "cell_type": "code",
      "source": [
        "\n",
        "x=X[:11738]\n",
        "#X_train_encoded, X_val_encoded, y_train, y_val = train_test_split(x, y, test_size=0.2,random_state=30)\n",
        "X_train_encoded=x\n",
        "y_train=y\n",
        "#X_train_encoded=X[:11304]\n",
        "#X_val_encoded=X[11304:11738]\n",
        "#print(X_val_encoded.shape)\n"
      ],
      "metadata": {
        "id": "UBUaZ-a67M1A"
      },
      "execution_count": null,
      "outputs": []
    },
    {
      "cell_type": "code",
      "source": [
        "\n",
        "X_test_encoded=X[11738:]\n",
        "print(X_test_encoded.shape)\n"
      ],
      "metadata": {
        "id": "85N6pDtZ-Zwz",
        "colab": {
          "base_uri": "https://localhost:8080/"
        },
        "outputId": "59d6c845-bda1-4eca-ae91-af3c37425a71"
      },
      "execution_count": null,
      "outputs": [
        {
          "output_type": "stream",
          "name": "stdout",
          "text": [
            "(11751, 19)\n"
          ]
        }
      ]
    },
    {
      "cell_type": "code",
      "source": [
        "'''\n",
        "xgbc=XGBRegressor(max_depth=10,learning_rate=0.05,n_estimators=503,colsample_bytree=0.87,reg_alpha= 0.55,reg_lambda=0.2)\n",
        "#xgbc=XGBRegressor(learning_rate= 0.1, n_estimators= 800, max_depth= 7, min_child_weight= 2, seed= 0,\n",
        "                    #subsample= 0.8, colsample_bytree= 0.7, gamma= 0.1, reg_alpha= 0.05, reg_lambda= 2)\n",
        "'''"
      ],
      "metadata": {
        "id": "ogqTFpTS_ECu",
        "colab": {
          "base_uri": "https://localhost:8080/",
          "height": 69
        },
        "outputId": "724c6ca6-616f-424b-9058-c74d19f3a743"
      },
      "execution_count": null,
      "outputs": [
        {
          "output_type": "execute_result",
          "data": {
            "text/plain": [
              "'\\nxgbc=XGBRegressor(max_depth=10,learning_rate=0.05,n_estimators=503,colsample_bytree=0.87,reg_alpha= 0.55,reg_lambda=0.2)\\n#xgbc=XGBRegressor(learning_rate= 0.1, n_estimators= 800, max_depth= 7, min_child_weight= 2, seed= 0,\\n                    #subsample= 0.8, colsample_bytree= 0.7, gamma= 0.1, reg_alpha= 0.05, reg_lambda= 2)\\n'"
            ],
            "application/vnd.google.colaboratory.intrinsic+json": {
              "type": "string"
            }
          },
          "metadata": {},
          "execution_count": 32
        }
      ]
    },
    {
      "cell_type": "code",
      "source": [
        "'''\n",
        "yp=xgbc.fit(X_train_encoded,y_train)\n",
        "y_train_predict=xgbc.predict(X_train_encoded)\n",
        "'''"
      ],
      "metadata": {
        "id": "BMcSLpFp_MlS",
        "colab": {
          "base_uri": "https://localhost:8080/",
          "height": 35
        },
        "outputId": "0520eeec-d782-496d-ea03-39a5458d80ae"
      },
      "execution_count": null,
      "outputs": [
        {
          "output_type": "execute_result",
          "data": {
            "text/plain": [
              "'\\nyp=xgbc.fit(X_train_encoded,y_train)\\ny_train_predict=xgbc.predict(X_train_encoded)\\n'"
            ],
            "application/vnd.google.colaboratory.intrinsic+json": {
              "type": "string"
            }
          },
          "metadata": {},
          "execution_count": 33
        }
      ]
    },
    {
      "cell_type": "code",
      "source": [
        "'''\n",
        "print('accuracy:',xgbc.score(X_train_encoded,y_train))\n",
        "\n",
        "print(mse(y_train_predict,y_train))\n",
        "'''"
      ],
      "metadata": {
        "colab": {
          "base_uri": "https://localhost:8080/",
          "height": 35
        },
        "id": "Tg1miiQM_a2D",
        "outputId": "9f08a346-0078-40b1-f65f-5c77fe8868a4"
      },
      "execution_count": null,
      "outputs": [
        {
          "output_type": "execute_result",
          "data": {
            "text/plain": [
              "\"\\nprint('accuracy:',xgbc.score(X_train_encoded,y_train))\\n\\nprint(mse(y_train_predict,y_train))\\n\""
            ],
            "application/vnd.google.colaboratory.intrinsic+json": {
              "type": "string"
            }
          },
          "metadata": {},
          "execution_count": 34
        }
      ]
    },
    {
      "cell_type": "code",
      "source": [
        "'''\n",
        "y_val_predict=xgbc.predict(X_val_encoded)\n",
        "'''"
      ],
      "metadata": {
        "id": "Iv_gsVVVCJjX",
        "colab": {
          "base_uri": "https://localhost:8080/",
          "height": 35
        },
        "outputId": "f34a765b-208d-4e0f-8301-ae77c4ff87b6"
      },
      "execution_count": null,
      "outputs": [
        {
          "output_type": "execute_result",
          "data": {
            "text/plain": [
              "'\\ny_val_predict=xgbc.predict(X_val_encoded)\\n'"
            ],
            "application/vnd.google.colaboratory.intrinsic+json": {
              "type": "string"
            }
          },
          "metadata": {},
          "execution_count": 35
        }
      ]
    },
    {
      "cell_type": "code",
      "source": [
        "'''\n",
        "print('accuracy:',xgbc.score(X_val_encoded,y_val))\n",
        "print(mse(y_val_predict,y_val))\n",
        "continuous_data = y_val\n",
        "\n",
        "array_data = np.array(continuous_data)\n",
        "\n",
        "continuous_data = y_val_predict\n",
        "\n",
        "y_pre = np.array(continuous_data)\n",
        "\n",
        "#print(array_data)\n",
        "#print(y_pre)\n",
        "length = y_pre.shape[0]\n",
        "total=0\n",
        "for i in range(length):\n",
        "    total+=abs(((array_data[i]-y_pre[i])/array_data[i]))\n",
        "total=total/length\n",
        "print(total)\n",
        "'''"
      ],
      "metadata": {
        "colab": {
          "base_uri": "https://localhost:8080/",
          "height": 69
        },
        "id": "Qne0DuTYCtU6",
        "outputId": "75e4cc62-52f1-4e71-cddb-966a951b8ceb"
      },
      "execution_count": null,
      "outputs": [
        {
          "output_type": "execute_result",
          "data": {
            "text/plain": [
              "\"\\nprint('accuracy:',xgbc.score(X_val_encoded,y_val))\\nprint(mse(y_val_predict,y_val))\\ncontinuous_data = y_val\\n\\narray_data = np.array(continuous_data)\\n\\ncontinuous_data = y_val_predict\\n\\ny_pre = np.array(continuous_data)\\n\\n#print(array_data)\\n#print(y_pre)\\nlength = y_pre.shape[0]\\ntotal=0\\nfor i in range(length):\\n    total+=abs(((array_data[i]-y_pre[i])/array_data[i]))\\ntotal=total/length\\nprint(total)\\n\""
            ],
            "application/vnd.google.colaboratory.intrinsic+json": {
              "type": "string"
            }
          },
          "metadata": {},
          "execution_count": 36
        }
      ]
    },
    {
      "cell_type": "code",
      "source": [
        "#y_test_predict=xgbc.predict(X_test_encoded)"
      ],
      "metadata": {
        "id": "88xlkbjUDXil"
      },
      "execution_count": null,
      "outputs": []
    },
    {
      "cell_type": "code",
      "source": [
        "'''\n",
        "presult = np.vstack((puby, y_test_predict))\n",
        "print(presult.T)\n",
        "\n",
        "\n",
        "df = pd.DataFrame(presult.T,columns=['ID','predicted_price'])\n",
        "df.to_csv(\"myfile.csv\",index=False)\n",
        "\n",
        "from google.colab import files\n",
        "#files.download(\"myfile.csv\")\n",
        "'''"
      ],
      "metadata": {
        "colab": {
          "base_uri": "https://localhost:8080/",
          "height": 52
        },
        "id": "GRMB9puEDOaP",
        "outputId": "18bbe6f8-f510-42e1-a582-65c06112d945"
      },
      "execution_count": null,
      "outputs": [
        {
          "output_type": "execute_result",
          "data": {
            "text/plain": [
              "'\\npresult = np.vstack((puby, y_test_predict))\\nprint(presult.T)\\n\\n\\ndf = pd.DataFrame(presult.T,columns=[\\'ID\\',\\'predicted_price\\'])\\ndf.to_csv(\"myfile.csv\",index=False)\\n\\nfrom google.colab import files\\n#files.download(\"myfile.csv\")\\n'"
            ],
            "application/vnd.google.colaboratory.intrinsic+json": {
              "type": "string"
            }
          },
          "metadata": {},
          "execution_count": 38
        }
      ]
    },
    {
      "cell_type": "code",
      "source": [
        "from sklearn.linear_model import Ridge\n",
        "# The alpha used by Python's ridge should be the lambda in Hull's book times the number of observations\n",
        "alphas=[0,0.0001,0.0002]\n",
        "msev=[]\n",
        "mset=[]\n",
        "msed=[]\n",
        "for alpha in alphas:\n",
        "    ridge=Ridge(alpha=alpha)\n",
        "    ridge.fit(X_train_encoded,y_train)\n",
        "    pred_t=ridge.predict(X_train_encoded)\n",
        "    mset.append(mse(y_train,pred_t))\n",
        "    #pred=ridge.predict(X_val_encoded)\n",
        "    #msev.append(mse(y_val,pred))\n",
        "    print(mse(y_train,pred_t))\n",
        "    #print(mse(y_val,pred))\n",
        "    #print(mse(y_train,pred_t)-mse(y_val,pred))\n",
        "    #msed.append(mse(y_val,pred)-mse(y_train,pred_t))\n",
        "\n",
        "'''\n",
        "dr = {\"training\": mset, \"validation\": msev, \"difference\": msed}\n",
        "dfr = pd.DataFrame(data=dr, index=alphas)\n",
        "display(dfr)\n",
        "'''\n",
        "'''\n",
        "ridge=Ridge(alpha=0.00001)\n",
        "ridge.fit(X_train_encoded,y_train)\n",
        "ridge_v=ridge.predict(X_val_encoded)\n",
        "'''"
      ],
      "metadata": {
        "id": "pX0GJKAxzSEI",
        "colab": {
          "base_uri": "https://localhost:8080/",
          "height": 86
        },
        "outputId": "231fa614-1b55-4b2c-c391-b6f2affde7d6"
      },
      "execution_count": null,
      "outputs": [
        {
          "output_type": "stream",
          "name": "stdout",
          "text": [
            "0.2185687087374451\n",
            "0.21881284075830418\n",
            "0.21901592538436926\n"
          ]
        },
        {
          "output_type": "execute_result",
          "data": {
            "text/plain": [
              "'\\nridge=Ridge(alpha=0.00001)\\nridge.fit(X_train_encoded,y_train)\\nridge_v=ridge.predict(X_val_encoded)\\n'"
            ],
            "application/vnd.google.colaboratory.intrinsic+json": {
              "type": "string"
            }
          },
          "metadata": {},
          "execution_count": 39
        }
      ]
    },
    {
      "cell_type": "code",
      "source": [
        "'''\n",
        "continuous_data = y_val\n",
        "\n",
        "array_data = np.array(continuous_data)\n",
        "\n",
        "continuous_data = ridge_v\n",
        "\n",
        "y_pre = np.array(continuous_data)\n",
        "\n",
        "#print(array_data)\n",
        "#print(y_pre)\n",
        "length = y_pre.shape[0]\n",
        "total=0\n",
        "for i in range(length):\n",
        "    total+=abs(((array_data[i]-y_pre[i])/array_data[i]))\n",
        "total=total/length\n",
        "print(total)\n",
        "'''"
      ],
      "metadata": {
        "colab": {
          "base_uri": "https://localhost:8080/",
          "height": 69
        },
        "id": "qn8N5CuSIn2Q",
        "outputId": "919e6f1d-2406-43b6-baf5-0566cfd00845"
      },
      "execution_count": null,
      "outputs": [
        {
          "output_type": "execute_result",
          "data": {
            "text/plain": [
              "'\\ncontinuous_data = y_val\\n\\narray_data = np.array(continuous_data)\\n\\ncontinuous_data = ridge_v\\n\\ny_pre = np.array(continuous_data)\\n\\n#print(array_data)\\n#print(y_pre)\\nlength = y_pre.shape[0]\\ntotal=0\\nfor i in range(length):\\n    total+=abs(((array_data[i]-y_pre[i])/array_data[i]))\\ntotal=total/length\\nprint(total)\\n'"
            ],
            "application/vnd.google.colaboratory.intrinsic+json": {
              "type": "string"
            }
          },
          "metadata": {},
          "execution_count": 40
        }
      ]
    },
    {
      "cell_type": "code",
      "source": [
        "\n",
        "from sklearn.linear_model import LassoCV\n",
        "# set cross-validation alpha\n",
        "alpha=[0.0001,0.001,0.01,0.1,1,10,100]\n",
        "# find the best alpha and build model\n",
        "Lasso = LassoCV(cv=100, alphas=alpha)\n",
        "Lasso_fit=Lasso.fit(X_train_encoded,y_train)\n",
        "y_lasso_train=Lasso_fit.predict(X_train_encoded)\n",
        "#y_lasso_val=Lasso_fit.predict(X_val_encoded)\n",
        "y_lasso_test=Lasso_fit.predict(X_test_encoded)\n",
        "# validation( train data and validate data)\n",
        "print('RMSE_train_Lasso = ' + str(math.sqrt(sklm.mean_squared_error(y_train, y_lasso_train))))\n",
        "#print('RMSE_test_Lasso = ' + str(math.sqrt(sklm.mean_squared_error(y_val, y_lasso_val))))\n"
      ],
      "metadata": {
        "id": "FITuHnxrzS8v",
        "colab": {
          "base_uri": "https://localhost:8080/"
        },
        "outputId": "b318dbac-75d6-47a8-c7f6-db509b35f0ac"
      },
      "execution_count": null,
      "outputs": [
        {
          "output_type": "stream",
          "name": "stderr",
          "text": [
            "/usr/local/lib/python3.10/dist-packages/sklearn/linear_model/_coordinate_descent.py:1568: DataConversionWarning: A column-vector y was passed when a 1d array was expected. Please change the shape of y to (n_samples, ), for example using ravel().\n",
            "  y = column_or_1d(y, warn=True)\n"
          ]
        },
        {
          "output_type": "stream",
          "name": "stdout",
          "text": [
            "RMSE_train_Lasso = 0.48584795487917887\n"
          ]
        }
      ]
    },
    {
      "cell_type": "code",
      "source": [
        "'''\n",
        "from sklearn.linear_model import ElasticNetCV\n",
        "# set cross-validation alpha and l1ratio\n",
        "alpha=[0.0001,0.001,0.01,0.1,1,10,100]\n",
        "l1ratio = [0.1, 0.5, 0.9, 0.95, 0.99, 1]\n",
        "# find the best alpha/l1ratio and build model\n",
        "elastic_cv = ElasticNetCV(cv=5, max_iter=1, alphas=alpha, l1_ratio=l1ratio)\n",
        "elastic_fit = elastic_cv.fit(X_train_encoded, y_train)\n",
        "y_el_train=elastic_fit.predict(X_train_encoded)\n",
        "y_el_val=elastic_fit.predict(X_val_encoded)\n",
        "y_el_test=elastic_fit.predict(X_test_encoded)\n",
        "# validation( train data and validate data)\n",
        "print('RMSE_train_ElasticNet = ' + str(math.sqrt(sklm.mean_squared_error(y_train, y_el_train))))\n",
        "print('RMSE_test_ElasticNet = ' + str(math.sqrt(sklm.mean_squared_error(y_val, y_el_val))))\n",
        "'''"
      ],
      "metadata": {
        "id": "rQmnnDSWzfH_",
        "colab": {
          "base_uri": "https://localhost:8080/",
          "height": 103
        },
        "outputId": "ecbf3a27-e3e2-4c8a-ddc8-8c327429724c"
      },
      "execution_count": null,
      "outputs": [
        {
          "output_type": "execute_result",
          "data": {
            "text/plain": [
              "\"\\nfrom sklearn.linear_model import ElasticNetCV\\n# set cross-validation alpha and l1ratio\\nalpha=[0.0001,0.001,0.01,0.1,1,10,100]\\nl1ratio = [0.1, 0.5, 0.9, 0.95, 0.99, 1]\\n# find the best alpha/l1ratio and build model\\nelastic_cv = ElasticNetCV(cv=5, max_iter=1, alphas=alpha, l1_ratio=l1ratio)\\nelastic_fit = elastic_cv.fit(X_train_encoded, y_train)\\ny_el_train=elastic_fit.predict(X_train_encoded)\\ny_el_val=elastic_fit.predict(X_val_encoded)\\ny_el_test=elastic_fit.predict(X_test_encoded)\\n# validation( train data and validate data)\\nprint('RMSE_train_ElasticNet = ' + str(math.sqrt(sklm.mean_squared_error(y_train, y_el_train))))\\nprint('RMSE_test_ElasticNet = ' + str(math.sqrt(sklm.mean_squared_error(y_val, y_el_val))))\\n\""
            ],
            "application/vnd.google.colaboratory.intrinsic+json": {
              "type": "string"
            }
          },
          "metadata": {},
          "execution_count": 42
        }
      ]
    },
    {
      "cell_type": "code",
      "source": [
        "'''\n",
        "from lightgbm import LGBMRegressor\n",
        "estimator=LGBMRegressor()\n",
        "parameter_grid={\n",
        "        'max_depth':range(2,5,1),\n",
        "        'learning_rate':np.linspace(0.001,1,20),\n",
        "        'feature_fraction':np.linspace(0.5,0.99,20),\n",
        "        'bagging_fraction':np.linspace(0.1,0.99,20),\n",
        "        'bagging_frequency':range(5,10,1),\n",
        "        'num_leaves':range(100,200,5),\n",
        "        'min_data_in_leaf':range(50,200,10),\n",
        "        'n_estimators':range(100,5000,100)}\n",
        "grid = RandomizedSearchCV(estimator,parameter_grid,cv = 3,scoring = 'neg_root_mean_squared_error',n_iter=500,n_jobs = -1)\n",
        "grid.fit(X_train_encoded, y_train)\n",
        "# print best parameter combination\n",
        "print (grid.best_params_)\n",
        "'''"
      ],
      "metadata": {
        "id": "-RO2etaAzlG7",
        "colab": {
          "base_uri": "https://localhost:8080/",
          "height": 103
        },
        "outputId": "cc59d43a-811f-4a8b-9688-801d541f030b"
      },
      "execution_count": null,
      "outputs": [
        {
          "output_type": "execute_result",
          "data": {
            "text/plain": [
              "\"\\nfrom lightgbm import LGBMRegressor\\nestimator=LGBMRegressor()\\nparameter_grid={\\n        'max_depth':range(2,5,1),\\n        'learning_rate':np.linspace(0.001,1,20),\\n        'feature_fraction':np.linspace(0.5,0.99,20),\\n        'bagging_fraction':np.linspace(0.1,0.99,20),\\n        'bagging_frequency':range(5,10,1),\\n        'num_leaves':range(100,200,5),\\n        'min_data_in_leaf':range(50,200,10),\\n        'n_estimators':range(100,5000,100)}\\ngrid = RandomizedSearchCV(estimator,parameter_grid,cv = 3,scoring = 'neg_root_mean_squared_error',n_iter=500,n_jobs = -1)\\ngrid.fit(X_train_encoded, y_train)\\n# print best parameter combination\\nprint (grid.best_params_)\\n\""
            ],
            "application/vnd.google.colaboratory.intrinsic+json": {
              "type": "string"
            }
          },
          "metadata": {},
          "execution_count": 43
        }
      ]
    },
    {
      "cell_type": "code",
      "source": [
        "from lightgbm import LGBMRegressor\n",
        "\n",
        "lightgbm = LGBMRegressor(objective='regression',\n",
        "                         num_leaves=10,\n",
        "                         min_data_in_leaf= 20,\n",
        "                         min_sum_hessian_in_leaf = 11,\n",
        "                         reg_alpha =0.55,\n",
        "                         reg_lambda =0.2,\n",
        "                         learning_rate=0.05,\n",
        "                         n_estimators=1000,\n",
        "                         max_bin=70,\n",
        "                         metric=\"rmse\",\n",
        "                         max_depth =10,\n",
        "                         bagging_fraction=0.9,\n",
        "                         bagging_freq=5,\n",
        "                         bagging_seed=9,\n",
        "                         feature_fraction=0.9,\n",
        "                         feature_fraction_seed=15,\n",
        "                         verbose=-1)\n",
        "lgbm_fit = lightgbm.fit(X_train_encoded, y_train)\n",
        "y_lgbm_train=lgbm_fit.predict(X_train_encoded)\n",
        "#y_lgbm_val=lgbm_fit.predict(X_val_encoded)\n",
        "y_lgbm_test=lgbm_fit.predict(X_test_encoded)\n",
        "print('RMSE_train_LGBM = ' + str(math.sqrt(sklm.mean_squared_error(y_train, y_lgbm_train))))\n",
        "#print('RMSE_test_LGBM = ' + str(math.sqrt(sklm.mean_squared_error(y_val, y_lgbm_val))))"
      ],
      "metadata": {
        "id": "qX5kcRJQzpt1",
        "colab": {
          "base_uri": "https://localhost:8080/"
        },
        "outputId": "d167e0f6-2c24-47eb-dafd-f16f537ce86f"
      },
      "execution_count": null,
      "outputs": [
        {
          "output_type": "stream",
          "name": "stdout",
          "text": [
            "RMSE_train_LGBM = 0.22579943001655495\n"
          ]
        }
      ]
    },
    {
      "cell_type": "code",
      "source": [
        "'''\n",
        "from xgboost.sklearn import XGBRegressor\n",
        "estimator=XGBRegressor()\n",
        "parameter_grid={\n",
        "        'max_depth':range(2,5,1),\n",
        "        'learning_rate':np.linspace(0.001,1,20),\n",
        "        'colsample_bytree':np.linspace(0.1,0.99,20),\n",
        "        'num_leaves':range(100,200,5),\n",
        "        'n_estimators':range(100,5000,100)}\n",
        "grid = RandomizedSearchCV(estimator,parameter_grid,cv = 5,scoring = 'neg_root_mean_squared_error',n_iter=500,n_jobs = -1)\n",
        "grid.fit(X_train_encoded, y_train)\n",
        "# print best parameter combination\n",
        "print (grid.best_params_)\n",
        "'''"
      ],
      "metadata": {
        "id": "x0LVJ3Dk2zYf",
        "colab": {
          "base_uri": "https://localhost:8080/",
          "height": 86
        },
        "outputId": "9f4ce5c5-c916-4662-ecc5-2957bcc57553"
      },
      "execution_count": null,
      "outputs": [
        {
          "output_type": "execute_result",
          "data": {
            "text/plain": [
              "\"\\nfrom xgboost.sklearn import XGBRegressor\\nestimator=XGBRegressor()\\nparameter_grid={\\n        'max_depth':range(2,5,1),\\n        'learning_rate':np.linspace(0.001,1,20),\\n        'colsample_bytree':np.linspace(0.1,0.99,20),\\n        'num_leaves':range(100,200,5),\\n        'n_estimators':range(100,5000,100)}\\ngrid = RandomizedSearchCV(estimator,parameter_grid,cv = 5,scoring = 'neg_root_mean_squared_error',n_iter=500,n_jobs = -1)\\ngrid.fit(X_train_encoded, y_train)\\n# print best parameter combination\\nprint (grid.best_params_)\\n\""
            ],
            "application/vnd.google.colaboratory.intrinsic+json": {
              "type": "string"
            }
          },
          "metadata": {},
          "execution_count": 45
        }
      ]
    },
    {
      "cell_type": "code",
      "source": [
        "'''\n",
        "xgb= XGBRegressor(base_score=0.5,\n",
        "                  booster='gbtree',\n",
        "                  colsample_bylevel=1,\n",
        "                  colsample_bynode=1,\n",
        "                  colsample_bytree=0.87,\n",
        "                  gamma=0,\n",
        "                  importance_type='gain',\n",
        "                  learning_rate=0.05,\n",
        "                  max_delta_step=0,\n",
        "                  max_depth=10,\n",
        "                  min_child_weight=0,\n",
        "                  missing=None,\n",
        "                  n_estimators=503,\n",
        "                  n_jobs=1,\n",
        "                  nthread=None,\n",
        "                  objective='reg:squarederror',\n",
        "                  random_state=0,\n",
        "                  reg_alpha=0.55,\n",
        "                  reg_lambda=0.2,\n",
        "                  scale_pos_weight=1,\n",
        "                  seed=None,\n",
        "                  silent=None,\n",
        "                  subsample=1,\n",
        "                  verbosity=1)\n",
        "'''\n",
        "xgbc=XGBRegressor(max_depth=10,learning_rate=0.05,n_estimators=503,colsample_bytree=0.87,reg_alpha= 0.55,reg_lambda=0.2)\n",
        "xgb_fit=xgbc.fit(X_train_encoded, y_train)\n",
        "y_xgb_train=xgb_fit.predict(X_train_encoded)\n",
        "#y_xgb_val=xgb_fit.predict(X_val_encoded)\n",
        "y_xgb_test=xgb_fit.predict(X_test_encoded)\n",
        "print('RMSE_train_LGBM = ' + str(math.sqrt(sklm.mean_squared_error(y_train, y_xgb_train))))\n",
        "#print('RMSE_test_LGBM = ' + str(math.sqrt(sklm.mean_squared_error(y_val, y_xgb_val))))"
      ],
      "metadata": {
        "id": "P7g3aepw28dz",
        "colab": {
          "base_uri": "https://localhost:8080/"
        },
        "outputId": "96daac21-f1ba-4b2c-f93b-a9f030281272"
      },
      "execution_count": null,
      "outputs": [
        {
          "output_type": "stream",
          "name": "stdout",
          "text": [
            "RMSE_train_LGBM = 0.055347787710977876\n"
          ]
        }
      ]
    },
    {
      "cell_type": "code",
      "source": [
        "\n",
        "continuous_data = y_train\n",
        "\n",
        "array_data = np.array(continuous_data)\n",
        "\n",
        "continuous_data = y_xgb_train\n",
        "\n",
        "y_pre = np.array(continuous_data)\n",
        "\n",
        "#print(array_data)\n",
        "#print(y_pre)\n",
        "length = y_pre.shape[0]\n",
        "total=0\n",
        "for i in range(length):\n",
        "    total+=abs(((array_data[i]-y_pre[i])/array_data[i]))\n",
        "total=total/length\n",
        "print(total)\n"
      ],
      "metadata": {
        "colab": {
          "base_uri": "https://localhost:8080/"
        },
        "id": "CmzUf_CCTFz8",
        "outputId": "dbbc51e0-7bf8-48e5-a0e4-e6931be0eb77"
      },
      "execution_count": null,
      "outputs": [
        {
          "output_type": "stream",
          "name": "stdout",
          "text": [
            "[0.02417675]\n"
          ]
        }
      ]
    },
    {
      "cell_type": "code",
      "source": [
        "from sklearn.ensemble import VotingRegressor\n",
        "# Build Model\n",
        "#vote_mod = VotingRegressor([('Ridge', Ridge_fit), ('Lasso', Lasso_fit), ('Elastic', elastic_fit), ('lgbm', lgbm_fit),('xgb',xgb_fit)])vote= vote_mod.fit(X_train_encoded, y_train.ravel())\n",
        "vote_mod = VotingRegressor([('lgbm', lgbm_fit),('xgb',xgb_fit)])\n",
        "vote= vote_mod.fit(X_train_encoded, y_train)\n",
        "# predict train/test y\n",
        "vote_pred_train=vote.predict(X_train_encoded)\n",
        "#vote_pred_val=vote.predict(X_val_encoded)\n",
        "vote_pred_test=vote.predict(X_test_encoded)\n",
        "# validation( train data and validate data)\n",
        "print('RMSE_train_Voting = ' + str(math.sqrt(sklm.mean_squared_error(y_train, vote_pred_train))))\n",
        "#print('RMSE_test_Voting = ' + str(math.sqrt(sklm.mean_squared_error(y_val, vote_pred_val))))"
      ],
      "metadata": {
        "id": "kHhAIZr-2Dxo",
        "colab": {
          "base_uri": "https://localhost:8080/"
        },
        "outputId": "e6ff4520-ddd3-4343-cd0b-ac5429cb3918"
      },
      "execution_count": null,
      "outputs": [
        {
          "output_type": "stream",
          "name": "stderr",
          "text": [
            "/usr/local/lib/python3.10/dist-packages/sklearn/ensemble/_voting.py:597: DataConversionWarning: A column-vector y was passed when a 1d array was expected. Please change the shape of y to (n_samples, ), for example using ravel().\n",
            "  y = column_or_1d(y, warn=True)\n"
          ]
        },
        {
          "output_type": "stream",
          "name": "stdout",
          "text": [
            "RMSE_train_Voting = 0.13395560522100414\n"
          ]
        }
      ]
    },
    {
      "cell_type": "code",
      "source": [
        "continuous_data = y_train\n",
        "\n",
        "array_data = np.array(continuous_data)\n",
        "\n",
        "continuous_data = vote_pred_train\n",
        "\n",
        "y_pre = np.array(continuous_data)\n",
        "\n",
        "#print(array_data)\n",
        "#print(y_pre)\n",
        "length = y_pre.shape[0]\n",
        "total=0\n",
        "for i in range(length):\n",
        "    total+=abs(((array_data[i]-y_pre[i])/array_data[i]))\n",
        "total=total/length\n",
        "print(total)"
      ],
      "metadata": {
        "colab": {
          "base_uri": "https://localhost:8080/"
        },
        "id": "s_T1woLzIYVu",
        "outputId": "c5441e59-179a-4e7d-98ae-446d91999a50"
      },
      "execution_count": null,
      "outputs": [
        {
          "output_type": "stream",
          "name": "stdout",
          "text": [
            "[0.05476461]\n"
          ]
        }
      ]
    },
    {
      "cell_type": "code",
      "source": [
        "from mlxtend.regressor import StackingRegressor\n",
        "from sklearn.ensemble import GradientBoostingRegressor\n",
        "# Build Model\n",
        "gbdt=GradientBoostingRegressor(learning_rate=0.05,\n",
        "                               max_leaf_nodes=10,\n",
        "                              n_estimators=1000)\n",
        "#stregr = StackingRegressor(regressors=[Ridge_fit, Lasso_fit, elastic_fit, lgbm_fit,xgb_fit],meta_regressor=gbdt,use_features_in_secondary=True)\n",
        "stregr = StackingRegressor(regressors=[lgbm_fit,xgb_fit],\n",
        "                           meta_regressor=gbdt,\n",
        "                           use_features_in_secondary=True)\n",
        "stack_mod=stregr.fit(X_train_encoded, y_train)\n",
        "# predict train/test y\n",
        "stacking_pred_train=stack_mod.predict(X_train_encoded)\n",
        "#stacking_pred_val=stack_mod.predict(X_val_encoded)\n",
        "stacking_pred_test=stack_mod.predict(X_test_encoded)\n",
        "# validation( train data and validate data)\n",
        "print('RMSE_train_Stacking = ' + str(math.sqrt(sklm.mean_squared_error(y_train, stacking_pred_train))))\n",
        "#print('RMSE_test_Stacking = ' + str(math.sqrt(sklm.mean_squared_error(y_val, stacking_pred_val))))"
      ],
      "metadata": {
        "id": "mekri6fe3PMV",
        "colab": {
          "base_uri": "https://localhost:8080/"
        },
        "outputId": "a0115b30-0226-4c30-c367-c7f8742e9553"
      },
      "execution_count": null,
      "outputs": [
        {
          "output_type": "stream",
          "name": "stderr",
          "text": [
            "/usr/local/lib/python3.10/dist-packages/sklearn/utils/validation.py:1143: DataConversionWarning: A column-vector y was passed when a 1d array was expected. Please change the shape of y to (n_samples, ), for example using ravel().\n",
            "  y = column_or_1d(y, warn=True)\n"
          ]
        },
        {
          "output_type": "stream",
          "name": "stdout",
          "text": [
            "RMSE_train_Stacking = 0.038899637750067606\n"
          ]
        }
      ]
    },
    {
      "cell_type": "code",
      "source": [
        "continuous_data = y_train\n",
        "\n",
        "array_data = np.array(continuous_data)\n",
        "\n",
        "continuous_data = stacking_pred_train\n",
        "\n",
        "y_pre = np.array(continuous_data)\n",
        "\n",
        "#print(array_data)\n",
        "#print(y_pre)\n",
        "length = y_pre.shape[0]\n",
        "total=0\n",
        "for i in range(length):\n",
        "    total+=abs(((array_data[i]-y_pre[i])/array_data[i]))\n",
        "total=total/length\n",
        "print(total)"
      ],
      "metadata": {
        "colab": {
          "base_uri": "https://localhost:8080/"
        },
        "id": "4FrxSCHnISDs",
        "outputId": "53ec2196-ae1b-4a97-f300-b9732b15ee7a"
      },
      "execution_count": null,
      "outputs": [
        {
          "output_type": "stream",
          "name": "stdout",
          "text": [
            "[0.0172583]\n"
          ]
        }
      ]
    },
    {
      "cell_type": "code",
      "source": [
        "# set weight list\n",
        "weight=list(np.linspace(0.1,1,91))\n",
        "# create outcome dataframe\n",
        "train_mse=[]\n",
        "val_mse=[]\n",
        "for i in weight:\n",
        "    blending_pred_train=(i*vote_pred_train)+((1-i)*stacking_pred_train)\n",
        "    #blending_pred_val=(i*vote_pred_val)+((1-i)*stacking_pred_val)\n",
        "    blending_pred_test=(i*vote_pred_test)+((1-i)*stacking_pred_test)\n",
        "    train_mse.append(math.sqrt(sklm.mean_squared_error(y_train, blending_pred_train)))\n",
        "    #val_mse.append(math.sqrt(sklm.mean_squared_error(y_val, blending_pred_val)))\n",
        "#blending_output=pd.DataFrame({'weight':weight,'train_mse':train_mse,'test_mse':val_mse})\n",
        "# print top 10 weight value\n",
        "#print (blending_output.sort_values(by=['test_mse'],ascending=True).head(10))\n",
        "\n",
        "blending_pred_test=(0.75*vote_pred_test)+((1-0.75)*stacking_pred_test)"
      ],
      "metadata": {
        "id": "7Y4B2NPM3moI"
      },
      "execution_count": null,
      "outputs": []
    },
    {
      "cell_type": "code",
      "source": [
        "continuous_data = y_train\n",
        "\n",
        "array_data = np.array(continuous_data)\n",
        "\n",
        "continuous_data = blending_pred_train\n",
        "\n",
        "y_pre = np.array(continuous_data)\n",
        "\n",
        "#print(array_data)\n",
        "#print(y_pre)\n",
        "length = y_pre.shape[0]\n",
        "total=0\n",
        "for i in range(length):\n",
        "    total+=abs(((array_data[i]-y_pre[i])/array_data[i]))\n",
        "total=total/length\n",
        "print(total)"
      ],
      "metadata": {
        "id": "a8FNqQaz40kI",
        "colab": {
          "base_uri": "https://localhost:8080/"
        },
        "outputId": "23db87c6-039f-4b93-9a01-bb43eda9323d"
      },
      "execution_count": null,
      "outputs": [
        {
          "output_type": "stream",
          "name": "stdout",
          "text": [
            "[0.05476461]\n"
          ]
        }
      ]
    },
    {
      "cell_type": "code",
      "source": [
        "presult = np.vstack((puby, stacking_pred_test))\n",
        "print(presult.T)\n",
        "\n",
        "\n",
        "df = pd.DataFrame(presult.T,columns=['ID','predicted_price'])\n",
        "df.to_csv(\"myfile.csv\",index=False)\n",
        "\n",
        "from google.colab import files\n",
        "files.download(\"myfile.csv\")"
      ],
      "metadata": {
        "id": "SLTo3go9J7-S",
        "colab": {
          "base_uri": "https://localhost:8080/",
          "height": 136
        },
        "outputId": "b0e010e0-1d17-418f-e3fa-9d6f4007899e"
      },
      "execution_count": null,
      "outputs": [
        {
          "output_type": "stream",
          "name": "stdout",
          "text": [
            "[['PU-1' 1.5804004769065139]\n",
            " ['PU-2' 1.6930247079916694]\n",
            " ['PU-3' 2.659295352919086]\n",
            " ...\n",
            " ['PR-5873' 1.5492024491942589]\n",
            " ['PR-5874' 1.1433655135227045]\n",
            " ['PR-5875' 2.024925367391214]]\n"
          ]
        },
        {
          "output_type": "display_data",
          "data": {
            "text/plain": [
              "<IPython.core.display.Javascript object>"
            ],
            "application/javascript": [
              "\n",
              "    async function download(id, filename, size) {\n",
              "      if (!google.colab.kernel.accessAllowed) {\n",
              "        return;\n",
              "      }\n",
              "      const div = document.createElement('div');\n",
              "      const label = document.createElement('label');\n",
              "      label.textContent = `Downloading \"${filename}\": `;\n",
              "      div.appendChild(label);\n",
              "      const progress = document.createElement('progress');\n",
              "      progress.max = size;\n",
              "      div.appendChild(progress);\n",
              "      document.body.appendChild(div);\n",
              "\n",
              "      const buffers = [];\n",
              "      let downloaded = 0;\n",
              "\n",
              "      const channel = await google.colab.kernel.comms.open(id);\n",
              "      // Send a message to notify the kernel that we're ready.\n",
              "      channel.send({})\n",
              "\n",
              "      for await (const message of channel.messages) {\n",
              "        // Send a message to notify the kernel that we're ready.\n",
              "        channel.send({})\n",
              "        if (message.buffers) {\n",
              "          for (const buffer of message.buffers) {\n",
              "            buffers.push(buffer);\n",
              "            downloaded += buffer.byteLength;\n",
              "            progress.value = downloaded;\n",
              "          }\n",
              "        }\n",
              "      }\n",
              "      const blob = new Blob(buffers, {type: 'application/binary'});\n",
              "      const a = document.createElement('a');\n",
              "      a.href = window.URL.createObjectURL(blob);\n",
              "      a.download = filename;\n",
              "      div.appendChild(a);\n",
              "      a.click();\n",
              "      div.remove();\n",
              "    }\n",
              "  "
            ]
          },
          "metadata": {}
        },
        {
          "output_type": "display_data",
          "data": {
            "text/plain": [
              "<IPython.core.display.Javascript object>"
            ],
            "application/javascript": [
              "download(\"download_0e2b0062-dd4f-41df-9cbb-f12c88492847\", \"myfile.csv\", 310924)"
            ]
          },
          "metadata": {}
        }
      ]
    },
    {
      "cell_type": "code",
      "source": [],
      "metadata": {
        "id": "7tMhSrjLUshD"
      },
      "execution_count": null,
      "outputs": []
    }
  ]
}